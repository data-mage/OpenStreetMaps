{
 "cells": [
  {
   "cell_type": "markdown",
   "metadata": {},
   "source": [
    "# <center> Data Project 1: Investigating IMDB Film Data </center>\n",
    "#### <center> By Eric Fraser </center>"
   ]
  },
  {
   "cell_type": "markdown",
   "metadata": {},
   "source": [
    "### Introduction\n",
    "\n",
    "Iconic films are tied so tightly to American culture that even people who do not watch films regularly are familiar with them. I chose this data set because I love watching good movies, and I am interested in how the film industry has evolved over time. \n",
    "\n",
    "The IMDB CSV set includes data on films released between 1960 and 2015. This dataset has information on over 10,000 films, so while not an overwhelmingly large set, there are hundreds of questions that could be explored. \n",
    "\n",
    "While looking through this data set, a few different items caught my eye. Because of my interest in film history, I was particularly curious how film ratings have changed over time. One of the questions I will be answering is two-part:\n",
    "\n",
    "**1a. How has the overall quality of films changed since the 1960s?**\n",
    "\n",
    "**1b. If there is a trend, what are some possible reasons for the trend?**\n",
    "\n",
    "Nobody likes bad movies. I'm curious -- which year should you probably have gone to the cinema more, and which year should you probably have done something else?\n",
    "\n",
    "**2a. What was the best rated year for films?**\n",
    "\n",
    "**2b. What was the worst rated year for films?**\n",
    "\n",
    "**2c. What was the most average rating year for films?**\n",
    "\n",
    "Naturally, film ratings, even by professional critics are a subjective measurement -- if you ask 100 people what their favorite movie is you might just get 100 different answers. However, there is reason to believe in a film's supposed objective quality if an overwhelming number of people rated it highly. \n",
    "\n",
    "Most of the data in the table was already cleaned and each row had a value for IMDB rating, so there wasn't much to do initially regarding data wrangling/cleaning.\n",
    "\n",
    "Onto the analysis.\n"
   ]
  },
  {
   "cell_type": "markdown",
   "metadata": {},
   "source": [
    "\n",
    "### Importing Libraries and Reading Data using PANDAS\n"
   ]
  },
  {
   "cell_type": "code",
   "execution_count": 81,
   "metadata": {},
   "outputs": [],
   "source": [
    "import pandas as pd\n",
    "import numpy as np\n",
    "import os\n",
    "import unicodecsv\n",
    "import matplotlib\n",
    "\n",
    "film_data = pd.read_csv(\"tmdb-movies.csv\")   \n",
    "dataframe_film_data = pd.DataFrame(film_data)\n",
    "\n",
    "# The purpose of the above code is to import pandas, numpy, and other libraries into the notebook.\n",
    "# The CSV file containing the dataset is then read into the notebook and contained in the variable \"film_data\"."
   ]
  },
  {
   "cell_type": "markdown",
   "metadata": {},
   "source": [
    "\n",
    "### Question Set 1\n",
    "##### 1a. How has the overall quality of films changed since the 1960s?\n",
    "##### 1b. If there is a trend, what are some possible reasons for the trend?\n",
    "\n"
   ]
  },
  {
   "cell_type": "code",
   "execution_count": 140,
   "metadata": {
    "scrolled": true
   },
   "outputs": [
    {
     "name": "stdout",
     "output_type": "stream",
     "text": [
      "release_year\n",
      "1960    6.32\n",
      "1961    6.37\n",
      "1962    6.34\n",
      "1963    6.33\n",
      "1964    6.21\n",
      "1965    6.19\n",
      "1966    6.13\n",
      "1967    6.24\n",
      "1968    6.38\n",
      "1969    5.96\n",
      "1970    6.42\n",
      "1971    6.42\n",
      "1972    6.53\n",
      "1973    6.70\n",
      "1974    6.40\n",
      "1975    6.39\n",
      "1976    6.34\n",
      "1977    6.15\n",
      "1978    6.13\n",
      "1979    6.31\n",
      "1980    6.16\n",
      "1981    6.17\n",
      "1982    6.24\n",
      "1983    5.97\n",
      "1984    6.00\n",
      "1985    6.18\n",
      "1986    6.00\n",
      "1987    6.13\n",
      "1988    5.97\n",
      "1989    6.07\n",
      "1990    5.99\n",
      "1991    6.01\n",
      "1992    6.08\n",
      "1993    6.05\n",
      "1994    5.94\n",
      "1995    6.06\n",
      "1996    5.90\n",
      "1997    5.99\n",
      "1998    5.97\n",
      "1999    6.03\n",
      "2000    5.88\n",
      "2001    5.90\n",
      "2002    5.97\n",
      "2003    5.93\n",
      "2004    5.99\n",
      "2005    5.87\n",
      "2006    5.94\n",
      "2007    5.96\n",
      "2008    5.93\n",
      "2009    5.86\n",
      "2010    5.99\n",
      "2011    5.96\n",
      "2012    5.80\n",
      "2013    5.88\n",
      "2014    5.92\n",
      "2015    5.89\n",
      "Name: vote_average, dtype: float64\n"
     ]
    },
    {
     "data": {
      "text/plain": [
       "<matplotlib.axes._subplots.AxesSubplot at 0x2b7c26fa988>"
      ]
     },
     "execution_count": 140,
     "metadata": {},
     "output_type": "execute_result"
    },
    {
     "data": {
      "image/png": "[encoded data removed]",
      "text/plain": [
       "<Figure size 432x288 with 1 Axes>"
      ]
     },
     "metadata": {
      "needs_background": "light"
     },
     "output_type": "display_data"
    }
   ],
   "source": [
    "\n",
    "rating_by_release_year = dataframe_film_data.groupby(\"release_year\").mean()[\"vote_average\"] \n",
    "print(rating_by_release_year.round(2))\n",
    "\n",
    "rating_by_release_year.plot()\n",
    "\n",
    "#First I took the film_data dataframe and used the groupby function to group the data by release year\n",
    "#Then I took the mean of all scores for films during that year and rounded the ratings to 2 decimal places\n",
    "#This data is much more impactful when viewed graphically, so I plotted the data as well to see what was going on visually\n",
    "#You can see the results below:\n"
   ]
  },
  {
   "cell_type": "markdown",
   "metadata": {},
   "source": [
    "It's easy to tell looking at the data and graph that overall quality of movies appears to be decreasing throughout the years. However, this data does not share the full story. I wondered what could be the reason for this decline in quality? Were movies actually getting worse over the years? Is nostalgia such a powerful force that movies from the critic's childhoods were favored disproportionately over modern movies?\n",
    "\n",
    "We need more information. My first thought was that the total number of films released year to year may have something to do with this. "
   ]
  },
  {
   "cell_type": "code",
   "execution_count": 185,
   "metadata": {
    "scrolled": true
   },
   "outputs": [
    {
     "name": "stdout",
     "output_type": "stream",
     "text": [
      "release_year\n",
      "1960     32\n",
      "1961     31\n",
      "1962     32\n",
      "1963     34\n",
      "1964     42\n",
      "1965     35\n",
      "1966     46\n",
      "1967     40\n",
      "1968     39\n",
      "1969     31\n",
      "1970     41\n",
      "1971     55\n",
      "1972     40\n",
      "1973     55\n",
      "1974     47\n",
      "1975     44\n",
      "1976     47\n",
      "1977     57\n",
      "1978     65\n",
      "1979     57\n",
      "1980     78\n",
      "1981     82\n",
      "1982     81\n",
      "1983     80\n",
      "1984    105\n",
      "1985    109\n",
      "1986    121\n",
      "1987    125\n",
      "1988    145\n",
      "1989    137\n",
      "1990    132\n",
      "1991    133\n",
      "1992    133\n",
      "1993    178\n",
      "1994    184\n",
      "1995    175\n",
      "1996    204\n",
      "1997    192\n",
      "1998    210\n",
      "1999    224\n",
      "2000    227\n",
      "2001    242\n",
      "2002    266\n",
      "2003    281\n",
      "2004    307\n",
      "2005    364\n",
      "2006    408\n",
      "2007    438\n",
      "2008    496\n",
      "2009    533\n",
      "2010    490\n",
      "2011    540\n",
      "2012    588\n",
      "2013    659\n",
      "2014    700\n",
      "2015    629\n",
      "Name: id, dtype: int64\n"
     ]
    },
    {
     "name": "stderr",
     "output_type": "stream",
     "text": [
      "C:\\Users\\Eric\\Anaconda3\\lib\\site-packages\\ipykernel_launcher.py:4: FutureWarning: `Series.plot()` should not be called with positional arguments, only keyword arguments. The order of positional arguments will change in the future. Use `Series.plot(kind='bar')` instead of `Series.plot('bar',)`.\n",
      "  after removing the cwd from sys.path.\n"
     ]
    },
    {
     "data": {
      "text/plain": [
       "<matplotlib.axes._subplots.AxesSubplot at 0x2b7cc647308>"
      ]
     },
     "execution_count": 185,
     "metadata": {},
     "output_type": "execute_result"
    },
    {
     "data": {
      "image/png": "[encoded data removed]",
      "text/plain": [
       "<Figure size 432x288 with 1 Axes>"
      ]
     },
     "metadata": {
      "needs_background": "light"
     },
     "output_type": "display_data"
    }
   ],
   "source": [
    "film_count_by_year = dataframe_film_data.groupby(\"release_year\").count()[\"id\"]\n",
    "print(film_count_by_year)\n",
    "\n",
    "film_count_by_year.plot('bar')\n",
    "\n",
    "#Similar to above, this code utilizes the count function to count the unique IDs in each grouped year\n",
    "#Again, the data is graphed visually below:"
   ]
  },
  {
   "cell_type": "markdown",
   "metadata": {},
   "source": [
    "As you can easily tell by the graph, the number of films released and reviewed per year is increasing at an exponential rate. Perhaps one reason the average quality is decreasing is that a huge number of bad films are bringing down the average. To discover if this is the case, I decided to check the highest and lowest rated films of each year. The data for the highest rated film each year is below"
   ]
  },
  {
   "cell_type": "code",
   "execution_count": 181,
   "metadata": {
    "scrolled": true
   },
   "outputs": [
    {
     "name": "stdout",
     "output_type": "stream",
     "text": [
      "release_year\n",
      "1960    8.0\n",
      "1961    7.5\n",
      "1962    7.7\n",
      "1963    7.5\n",
      "1964    7.7\n",
      "1965    7.6\n",
      "1966    7.9\n",
      "1967    7.6\n",
      "1968    7.7\n",
      "1969    7.3\n",
      "1970    7.6\n",
      "1971    7.7\n",
      "1972    8.3\n",
      "1973    7.7\n",
      "1974    8.1\n",
      "1975    8.0\n",
      "1976    7.8\n",
      "1977    7.9\n",
      "1978    8.0\n",
      "1979    7.8\n",
      "1980    8.0\n",
      "1981    8.5\n",
      "1982    7.9\n",
      "1983    8.1\n",
      "1984    8.4\n",
      "1985    8.3\n",
      "1986    8.0\n",
      "1987    7.7\n",
      "1988    8.0\n",
      "1989    8.4\n",
      "1990    8.0\n",
      "1991    7.9\n",
      "1992    8.4\n",
      "1993    8.1\n",
      "1994    8.4\n",
      "1995    8.5\n",
      "1996    7.9\n",
      "1997    7.8\n",
      "1998    8.0\n",
      "1999    8.1\n",
      "2000    8.5\n",
      "2001    8.0\n",
      "2002    8.3\n",
      "2003    8.0\n",
      "2004    7.8\n",
      "2005    8.3\n",
      "2006    8.7\n",
      "2007    7.9\n",
      "2008    8.5\n",
      "2009    8.3\n",
      "2010    8.8\n",
      "2011    9.2\n",
      "2012    8.3\n",
      "2013    8.5\n",
      "2014    8.8\n",
      "2015    8.9\n",
      "Name: vote_average, dtype: float64\n"
     ]
    },
    {
     "data": {
      "text/plain": [
       "<matplotlib.axes._subplots.AxesSubplot at 0x2b7cbbe0948>"
      ]
     },
     "execution_count": 181,
     "metadata": {},
     "output_type": "execute_result"
    },
    {
     "data": {
      "image/png": "[encoded data removed]",
      "text/plain": [
       "<Figure size 432x288 with 1 Axes>"
      ]
     },
     "metadata": {
      "needs_background": "light"
     },
     "output_type": "display_data"
    }
   ],
   "source": [
    "best_film_per_year = dataframe_film_data.groupby(\"release_year\").max()[\"vote_average\"]\n",
    "\n",
    "print(best_film_per_year)\n",
    "\n",
    "best_film_per_year.plot()\n",
    "\n",
    "#This code pulls the highest rated film and score of the film for each year and adds it \n",
    "#to the best_film_per_year variable\n"
   ]
  },
  {
   "cell_type": "markdown",
   "metadata": {},
   "source": [
    "It looks like that although the average film score goes down year to year, the highest end films are generally improving in quality over time. We will do the same for the worst films each year below:"
   ]
  },
  {
   "cell_type": "code",
   "execution_count": 150,
   "metadata": {
    "scrolled": true
   },
   "outputs": [
    {
     "name": "stdout",
     "output_type": "stream",
     "text": [
      "release_year\n",
      "1960    4.9\n",
      "1961    4.6\n",
      "1962    4.9\n",
      "1963    5.0\n",
      "1964    4.6\n",
      "1965    4.4\n",
      "1966    1.5\n",
      "1967    4.6\n",
      "1968    5.4\n",
      "1969    3.9\n",
      "1970    3.0\n",
      "1971    2.9\n",
      "1972    5.3\n",
      "1973    4.8\n",
      "1974    4.8\n",
      "1975    3.8\n",
      "1976    4.6\n",
      "1977    4.6\n",
      "1978    3.1\n",
      "1979    3.0\n",
      "1980    3.6\n",
      "1981    4.2\n",
      "1982    3.0\n",
      "1983    2.7\n",
      "1984    3.6\n",
      "1985    4.3\n",
      "1986    3.5\n",
      "1987    2.8\n",
      "1988    3.8\n",
      "1989    2.3\n",
      "1990    3.8\n",
      "1991    3.1\n",
      "1992    4.0\n",
      "1993    3.4\n",
      "1994    3.9\n",
      "1995    3.5\n",
      "1996    3.3\n",
      "1997    3.2\n",
      "1998    2.9\n",
      "1999    3.4\n",
      "2000    3.5\n",
      "2001    3.6\n",
      "2002    3.3\n",
      "2003    3.4\n",
      "2004    2.1\n",
      "2005    2.5\n",
      "2006    2.8\n",
      "2007    1.5\n",
      "2008    2.6\n",
      "2009    3.1\n",
      "2010    2.1\n",
      "2011    2.1\n",
      "2012    2.0\n",
      "2013    2.2\n",
      "2014    2.4\n",
      "2015    2.4\n",
      "Name: vote_average, dtype: float64\n"
     ]
    },
    {
     "data": {
      "text/plain": [
       "<matplotlib.axes._subplots.AxesSubplot at 0x2b7c8c31788>"
      ]
     },
     "execution_count": 150,
     "metadata": {},
     "output_type": "execute_result"
    },
    {
     "data": {
      "image/png": "[encoded data removed]",
      "text/plain": [
       "<Figure size 432x288 with 1 Axes>"
      ]
     },
     "metadata": {
      "needs_background": "light"
     },
     "output_type": "display_data"
    }
   ],
   "source": [
    "worst_film_per_year = dataframe_film_data.groupby(\"release_year\").min()[\"vote_average\"]\n",
    "print(worst_film_per_year)\n",
    "worst_film_per_year.plot()\n",
    "\n",
    "#This cell works similarly to the previous cell, except it finds the worst film instead\n",
    "#of the best one"
   ]
  },
  {
   "cell_type": "markdown",
   "metadata": {},
   "source": [
    "Interestingly, the best films appear to be getting better, and the worst films appear to be getting worse, and the overall quality is decreasing "
   ]
  },
  {
   "cell_type": "markdown",
   "metadata": {},
   "source": [
    "\n",
    "### Question Set 2\n",
    "##### 2a. What was the best rated year for films?\n",
    "##### 2b. What was the worst rated year for films?\n",
    "##### 2c. What was the most average rating year for films?\n"
   ]
  },
  {
   "cell_type": "code",
   "execution_count": 170,
   "metadata": {
    "scrolled": true
   },
   "outputs": [
    {
     "name": "stdout",
     "output_type": "stream",
     "text": [
      "release_year\n",
      "1973    6.703636\n",
      "1972    6.535000\n",
      "1971    6.420000\n",
      "1970    6.417073\n",
      "1974    6.395745\n",
      "1975    6.390909\n",
      "1968    6.379487\n",
      "1961    6.374194\n",
      "1962    6.343750\n",
      "1976    6.340426\n",
      "1963    6.329412\n",
      "1960    6.325000\n",
      "1979    6.308772\n",
      "1967    6.242500\n",
      "1982    6.241975\n",
      "1964    6.211905\n",
      "1965    6.194286\n",
      "1985    6.177064\n",
      "1981    6.165854\n",
      "1980    6.160256\n",
      "1977    6.147368\n",
      "1978    6.130769\n",
      "1987    6.128800\n",
      "1966    6.128261\n",
      "1992    6.081203\n",
      "1989    6.070073\n",
      "1995    6.056000\n",
      "1993    6.050000\n",
      "1999    6.032589\n",
      "1991    6.014286\n",
      "1986    6.004959\n",
      "1984    6.003810\n",
      "1990    5.993939\n",
      "2010    5.990816\n",
      "2004    5.988599\n",
      "1997    5.988542\n",
      "2002    5.973308\n",
      "1983    5.971250\n",
      "1998    5.970476\n",
      "1988    5.965517\n",
      "2007    5.964384\n",
      "1969    5.961290\n",
      "2011    5.958519\n",
      "1994    5.942391\n",
      "2006    5.941422\n",
      "2003    5.930961\n",
      "2008    5.930847\n",
      "2014    5.920714\n",
      "1996    5.900980\n",
      "2001    5.896281\n",
      "2015    5.885692\n",
      "2000    5.882379\n",
      "2013    5.880577\n",
      "2005    5.866484\n",
      "2009    5.856660\n",
      "2012    5.799830\n",
      "Name: vote_average, dtype: float64\n"
     ]
    }
   ],
   "source": [
    "\n",
    "\n",
    "print(rating_by_release_year.sort_values(ascending=False))\n",
    "\n"
   ]
  },
  {
   "cell_type": "markdown",
   "metadata": {},
   "source": [
    "According to the data, 1973 was on average the best quality year for films. Here are a couple top films released that year:\n",
    "\n",
    "<blockquote> The Exorcist, Mean Streets, Papillon, A Charlie Brown Thanksgiving, and Charlotte's Web were all realeased in 1973  </blockquote>\n",
    "\n",
    "Based on average rating, it appears 2012 was the worst quality year for films. Here are a couple bottom-feeders from 2012:\n",
    "\n",
    "<blockquote> Battleship, Snow White and the Huntsman, The Three Stooges, and Silent Hill: Revelation 3D were all released in 2012 </blockquote>\n",
    "\n",
    "Though 2012 was the worst year overall for films, there were still some gems that year. Django Unchained, The Perks of Being a Wallflower, and The Dark Knight Rises all achieved at least a 7.5 rating. \n",
    "\n",
    "So what is the most average year for movies?"
   ]
  },
  {
   "cell_type": "code",
   "execution_count": 173,
   "metadata": {},
   "outputs": [
    {
     "name": "stdout",
     "output_type": "stream",
     "text": [
      "6.104771767682126\n"
     ]
    }
   ],
   "source": [
    "print(rating_by_release_year.mean())\n",
    "\n",
    "#This code takes the code block above and effectively determines\n",
    "#the mean of the data set across all years."
   ]
  },
  {
   "cell_type": "markdown",
   "metadata": {},
   "source": [
    "Using the table above and referencing the average we just calculated, we can see that there are two years that would qualify for the most average years for movies ratings-wise -- both 1992 and 1966 fall right around the mean, with 1987 a close third. "
   ]
  },
  {
   "cell_type": "markdown",
   "metadata": {},
   "source": []
  }
 ],
 "metadata": {
  "kernelspec": {
   "display_name": "Python 3",
   "language": "python",
   "name": "python3"
  },
  "language_info": {
   "codemirror_mode": {
    "name": "ipython",
    "version": 3
   },
   "file_extension": ".py",
   "mimetype": "text/x-python",
   "name": "python",
   "nbconvert_exporter": "python",
   "pygments_lexer": "ipython3",
   "version": "3.7.4"
  }
 },
 "nbformat": 4,
 "nbformat_minor": 2
}
